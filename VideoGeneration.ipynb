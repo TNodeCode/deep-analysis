{
 "cells": [
  {
   "cell_type": "code",
   "execution_count": null,
   "id": "6599eb26-2d43-4b9b-ad02-b6efadb4c482",
   "metadata": {},
   "outputs": [],
   "source": [
    "import cv2\n",
    "import os\n",
    "\n",
    "# Directory path where the images are stored\n",
    "image_dir = './visualizations/leaf/4components'\n",
    "\n",
    "# Output video file name\n",
    "output_file = image_dir + '/output.mp4'\n",
    "\n",
    "# Frame rate (frames per second)\n",
    "frame_rate = 5\n",
    "\n",
    "# Get the list of image files in the directory\n",
    "image_files = sorted([f for f in os.listdir(image_dir) if f.endswith('.jpg')])\n",
    "\n",
    "# Load the first image to get its dimensions\n",
    "first_image = cv2.imread(os.path.join(image_dir, image_files[0]))\n",
    "height, width, channels = first_image.shape\n",
    "\n",
    "# Create a VideoWriter object\n",
    "fourcc = cv2.VideoWriter_fourcc(*'mp4v')\n",
    "video_writer = cv2.VideoWriter(output_file, fourcc, frame_rate, (width, height))\n",
    "\n",
    "# Loop over the image files and write each frame to the video\n",
    "for image_file in image_files:\n",
    "    image_path = os.path.join(image_dir, image_file)\n",
    "    frame = cv2.imread(image_path)\n",
    "    video_writer.write(frame)\n",
    "\n",
    "# Release the VideoWriter and close the video file\n",
    "video_writer.release()\n",
    "\n",
    "print(f\"Video file '{output_file}' created successfully!\")"
   ]
  },
  {
   "cell_type": "code",
   "execution_count": null,
   "id": "8411b8b8-ec3b-4ead-b117-37550eb02138",
   "metadata": {},
   "outputs": [],
   "source": []
  }
 ],
 "metadata": {
  "kernelspec": {
   "display_name": "Python 3 (ipykernel)",
   "language": "python",
   "name": "python3"
  },
  "language_info": {
   "codemirror_mode": {
    "name": "ipython",
    "version": 3
   },
   "file_extension": ".py",
   "mimetype": "text/x-python",
   "name": "python",
   "nbconvert_exporter": "python",
   "pygments_lexer": "ipython3",
   "version": "3.10.6"
  }
 },
 "nbformat": 4,
 "nbformat_minor": 5
}

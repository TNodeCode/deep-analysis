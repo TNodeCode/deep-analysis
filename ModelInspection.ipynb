{
 "cells": [
  {
   "cell_type": "code",
   "execution_count": 1,
   "id": "1965d74c-37b5-44ac-920a-e9e8fdf3ee31",
   "metadata": {},
   "outputs": [],
   "source": [
    "%load_ext autoreload\n",
    "%autoreload 2\n",
    "\n",
    "from backbones import WAE_MMD_Backbone"
   ]
  },
  {
   "cell_type": "code",
   "execution_count": 2,
   "id": "7c580d86-bf35-4cd6-bfbc-d9f48e44b315",
   "metadata": {},
   "outputs": [
    {
     "name": "stderr",
     "output_type": "stream",
     "text": [
      "C:\\Users\\tilof\\AppData\\Local\\Programs\\Python\\Python310\\lib\\site-packages\\torch\\cuda\\__init__.py:651: UserWarning: CUDA initialization: CUDA unknown error - this may be due to an incorrectly set up environment, e.g. changing env variable CUDA_VISIBLE_DEVICES after program start. Setting the available devices to be zero. (Triggered internally at ..\\c10\\cuda\\CUDAFunctions.cpp:109.)\n",
      "  return torch._C._cuda_getDeviceCount() if nvml_count < 0 else nvml_count\n"
     ]
    }
   ],
   "source": [
    "model = WAE_MMD_Backbone(\n",
    "    filepath='../PyTorch-VAE/logs/WAE_MMD/version_10/checkpoints/last.ckpt'\n",
    ")"
   ]
  },
  {
   "cell_type": "code",
   "execution_count": 3,
   "id": "dd0f02cd-4e44-4641-b3bc-be0a28e8df94",
   "metadata": {},
   "outputs": [
    {
     "data": {
      "text/plain": [
       "(['input',\n",
       "  '_kwargs',\n",
       "  'encoder.0.0',\n",
       "  'encoder.0.1',\n",
       "  'encoder.0.2',\n",
       "  'encoder.1.0',\n",
       "  'encoder.1.1',\n",
       "  'encoder.1.2',\n",
       "  'encoder.2.0',\n",
       "  'encoder.2.1',\n",
       "  'encoder.2.2',\n",
       "  'encoder.3.0',\n",
       "  'encoder.3.1',\n",
       "  'encoder.3.2',\n",
       "  'encoder.4.0',\n",
       "  'encoder.4.1',\n",
       "  'encoder.4.2',\n",
       "  'encoder.5.0',\n",
       "  'encoder.5.1',\n",
       "  'encoder.5.2',\n",
       "  'flatten',\n",
       "  'fc_z',\n",
       "  'decoder_input',\n",
       "  'view',\n",
       "  'decoder.0.0',\n",
       "  'decoder.0.1',\n",
       "  'decoder.0.2',\n",
       "  'decoder.1.0',\n",
       "  'decoder.1.1',\n",
       "  'decoder.1.2',\n",
       "  'decoder.2.0',\n",
       "  'decoder.2.1',\n",
       "  'decoder.2.2',\n",
       "  'decoder.3.0',\n",
       "  'decoder.3.1',\n",
       "  'decoder.3.2',\n",
       "  'decoder.4.0',\n",
       "  'decoder.4.1',\n",
       "  'decoder.4.2',\n",
       "  'final_layer.0',\n",
       "  'final_layer.1',\n",
       "  'final_layer.2',\n",
       "  'final_layer.3',\n",
       "  'final_layer.4'],\n",
       " ['input',\n",
       "  '_kwargs',\n",
       "  'encoder.0.0',\n",
       "  'encoder.0.1',\n",
       "  'encoder.0.2',\n",
       "  'encoder.1.0',\n",
       "  'encoder.1.1',\n",
       "  'encoder.1.2',\n",
       "  'encoder.2.0',\n",
       "  'encoder.2.1',\n",
       "  'encoder.2.2',\n",
       "  'encoder.3.0',\n",
       "  'encoder.3.1',\n",
       "  'encoder.3.2',\n",
       "  'encoder.4.0',\n",
       "  'encoder.4.1',\n",
       "  'encoder.4.2',\n",
       "  'encoder.5.0',\n",
       "  'encoder.5.1',\n",
       "  'encoder.5.2',\n",
       "  'flatten',\n",
       "  'fc_z',\n",
       "  'decoder_input',\n",
       "  'view',\n",
       "  'decoder.0.0',\n",
       "  'decoder.0.1',\n",
       "  'decoder.0.2',\n",
       "  'decoder.1.0',\n",
       "  'decoder.1.1',\n",
       "  'decoder.1.2',\n",
       "  'decoder.2.0',\n",
       "  'decoder.2.1',\n",
       "  'decoder.2.2',\n",
       "  'decoder.3.0',\n",
       "  'decoder.3.1',\n",
       "  'decoder.3.2',\n",
       "  'decoder.4.0',\n",
       "  'decoder.4.1',\n",
       "  'decoder.4.2',\n",
       "  'final_layer.0',\n",
       "  'final_layer.1',\n",
       "  'final_layer.2',\n",
       "  'final_layer.3',\n",
       "  'final_layer.4'])"
      ]
     },
     "execution_count": 3,
     "metadata": {},
     "output_type": "execute_result"
    }
   ],
   "source": [
    "model.get_nodes()"
   ]
  },
  {
   "cell_type": "code",
   "execution_count": 4,
   "id": "bd685aa1-ca2d-4b41-bc64-a187b4ffcac1",
   "metadata": {},
   "outputs": [
    {
     "data": {
      "text/plain": [
       "WAE_MMD(\n",
       "  (encoder): Sequential(\n",
       "    (0): Sequential(\n",
       "      (0): Conv2d(3, 32, kernel_size=(3, 3), stride=(2, 2), padding=(1, 1))\n",
       "      (1): BatchNorm2d(32, eps=1e-05, momentum=0.1, affine=True, track_running_stats=True)\n",
       "      (2): LeakyReLU(negative_slope=0.01)\n",
       "    )\n",
       "    (1): Sequential(\n",
       "      (0): Conv2d(32, 64, kernel_size=(3, 3), stride=(2, 2), padding=(1, 1))\n",
       "      (1): BatchNorm2d(64, eps=1e-05, momentum=0.1, affine=True, track_running_stats=True)\n",
       "      (2): LeakyReLU(negative_slope=0.01)\n",
       "    )\n",
       "    (2): Sequential(\n",
       "      (0): Conv2d(64, 128, kernel_size=(3, 3), stride=(2, 2), padding=(1, 1))\n",
       "      (1): BatchNorm2d(128, eps=1e-05, momentum=0.1, affine=True, track_running_stats=True)\n",
       "      (2): LeakyReLU(negative_slope=0.01)\n",
       "    )\n",
       "    (3): Sequential(\n",
       "      (0): Conv2d(128, 256, kernel_size=(3, 3), stride=(2, 2), padding=(1, 1))\n",
       "      (1): BatchNorm2d(256, eps=1e-05, momentum=0.1, affine=True, track_running_stats=True)\n",
       "      (2): LeakyReLU(negative_slope=0.01)\n",
       "    )\n",
       "    (4): Sequential(\n",
       "      (0): Conv2d(256, 512, kernel_size=(3, 3), stride=(2, 2), padding=(1, 1))\n",
       "      (1): BatchNorm2d(512, eps=1e-05, momentum=0.1, affine=True, track_running_stats=True)\n",
       "      (2): LeakyReLU(negative_slope=0.01)\n",
       "    )\n",
       "    (5): Sequential(\n",
       "      (0): Conv2d(512, 1024, kernel_size=(3, 3), stride=(2, 2), padding=(1, 1))\n",
       "      (1): BatchNorm2d(1024, eps=1e-05, momentum=0.1, affine=True, track_running_stats=True)\n",
       "      (2): LeakyReLU(negative_slope=0.01)\n",
       "    )\n",
       "  )\n",
       "  (fc_z): Linear(in_features=16384, out_features=128, bias=True)\n",
       "  (decoder_input): Linear(in_features=128, out_features=16384, bias=True)\n",
       "  (decoder): Sequential(\n",
       "    (0): Sequential(\n",
       "      (0): ConvTranspose2d(1024, 512, kernel_size=(3, 3), stride=(2, 2), padding=(1, 1), output_padding=(1, 1))\n",
       "      (1): BatchNorm2d(512, eps=1e-05, momentum=0.1, affine=True, track_running_stats=True)\n",
       "      (2): LeakyReLU(negative_slope=0.01)\n",
       "    )\n",
       "    (1): Sequential(\n",
       "      (0): ConvTranspose2d(512, 256, kernel_size=(3, 3), stride=(2, 2), padding=(1, 1), output_padding=(1, 1))\n",
       "      (1): BatchNorm2d(256, eps=1e-05, momentum=0.1, affine=True, track_running_stats=True)\n",
       "      (2): LeakyReLU(negative_slope=0.01)\n",
       "    )\n",
       "    (2): Sequential(\n",
       "      (0): ConvTranspose2d(256, 128, kernel_size=(3, 3), stride=(2, 2), padding=(1, 1), output_padding=(1, 1))\n",
       "      (1): BatchNorm2d(128, eps=1e-05, momentum=0.1, affine=True, track_running_stats=True)\n",
       "      (2): LeakyReLU(negative_slope=0.01)\n",
       "    )\n",
       "    (3): Sequential(\n",
       "      (0): ConvTranspose2d(128, 64, kernel_size=(3, 3), stride=(2, 2), padding=(1, 1), output_padding=(1, 1))\n",
       "      (1): BatchNorm2d(64, eps=1e-05, momentum=0.1, affine=True, track_running_stats=True)\n",
       "      (2): LeakyReLU(negative_slope=0.01)\n",
       "    )\n",
       "    (4): Sequential(\n",
       "      (0): ConvTranspose2d(64, 32, kernel_size=(3, 3), stride=(2, 2), padding=(1, 1), output_padding=(1, 1))\n",
       "      (1): BatchNorm2d(32, eps=1e-05, momentum=0.1, affine=True, track_running_stats=True)\n",
       "      (2): LeakyReLU(negative_slope=0.01)\n",
       "    )\n",
       "  )\n",
       "  (final_layer): Sequential(\n",
       "    (0): ConvTranspose2d(32, 32, kernel_size=(3, 3), stride=(2, 2), padding=(1, 1), output_padding=(1, 1))\n",
       "    (1): BatchNorm2d(32, eps=1e-05, momentum=0.1, affine=True, track_running_stats=True)\n",
       "    (2): LeakyReLU(negative_slope=0.01)\n",
       "    (3): Conv2d(32, 3, kernel_size=(3, 3), stride=(1, 1), padding=(1, 1))\n",
       "    (4): Tanh()\n",
       "  )\n",
       ")"
      ]
     },
     "execution_count": 4,
     "metadata": {},
     "output_type": "execute_result"
    }
   ],
   "source": [
    "model.model.eval()"
   ]
  },
  {
   "cell_type": "code",
   "execution_count": 7,
   "id": "ab0cdb79-bf6a-4e9f-b6b9-cef63053fb69",
   "metadata": {},
   "outputs": [
    {
     "data": {
      "text/plain": [
       "torch.Size([1, 32, 112, 112])"
      ]
     },
     "execution_count": 7,
     "metadata": {},
     "output_type": "execute_result"
    }
   ],
   "source": [
    "import torch\n",
    "x = model.get_features(torch.ones(1, 3, 224, 224), \"e1\")\n",
    "x.shape"
   ]
  },
  {
   "cell_type": "code",
   "execution_count": null,
   "id": "e7190e94-e751-4434-abe5-bbfaf4694f47",
   "metadata": {},
   "outputs": [],
   "source": []
  }
 ],
 "metadata": {
  "kernelspec": {
   "display_name": "Python 3 (ipykernel)",
   "language": "python",
   "name": "python3"
  },
  "language_info": {
   "codemirror_mode": {
    "name": "ipython",
    "version": 3
   },
   "file_extension": ".py",
   "mimetype": "text/x-python",
   "name": "python",
   "nbconvert_exporter": "python",
   "pygments_lexer": "ipython3",
   "version": "3.10.6"
  }
 },
 "nbformat": 4,
 "nbformat_minor": 5
}

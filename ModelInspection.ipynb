{
 "cells": [
  {
   "cell_type": "code",
   "execution_count": null,
   "id": "1965d74c-37b5-44ac-920a-e9e8fdf3ee31",
   "metadata": {},
   "outputs": [],
   "source": [
    "%load_ext autoreload\n",
    "%autoreload 2\n",
    "\n",
    "from backbones import KeyPointRCNN"
   ]
  },
  {
   "cell_type": "code",
   "execution_count": null,
   "id": "7c580d86-bf35-4cd6-bfbc-d9f48e44b315",
   "metadata": {},
   "outputs": [],
   "source": [
    "model = KeyPointRCNN()"
   ]
  },
  {
   "cell_type": "code",
   "execution_count": null,
   "id": "dd0f02cd-4e44-4641-b3bc-be0a28e8df94",
   "metadata": {},
   "outputs": [],
   "source": [
    "model.get_nodes()"
   ]
  },
  {
   "cell_type": "code",
   "execution_count": null,
   "id": "bd685aa1-ca2d-4b41-bc64-a187b4ffcac1",
   "metadata": {},
   "outputs": [],
   "source": [
    "model.model.eval()"
   ]
  },
  {
   "cell_type": "code",
   "execution_count": null,
   "id": "ab0cdb79-bf6a-4e9f-b6b9-cef63053fb69",
   "metadata": {},
   "outputs": [],
   "source": [
    "import torch\n",
    "model.get_features(torch.ones(1, 3, 224, 224), 3).shape"
   ]
  },
  {
   "cell_type": "code",
   "execution_count": null,
   "id": "89be46ce-955a-4c6e-b409-109daf39013d",
   "metadata": {},
   "outputs": [],
   "source": []
  },
  {
   "cell_type": "code",
   "execution_count": null,
   "id": "1e76cdab-987d-4c10-9cf0-bd08612b401d",
   "metadata": {},
   "outputs": [],
   "source": []
  }
 ],
 "metadata": {
  "kernelspec": {
   "display_name": "Python 3 (ipykernel)",
   "language": "python",
   "name": "python3"
  },
  "language_info": {
   "codemirror_mode": {
    "name": "ipython",
    "version": 3
   },
   "file_extension": ".py",
   "mimetype": "text/x-python",
   "name": "python",
   "nbconvert_exporter": "python",
   "pygments_lexer": "ipython3",
   "version": "3.10.6"
  }
 },
 "nbformat": 4,
 "nbformat_minor": 5
}

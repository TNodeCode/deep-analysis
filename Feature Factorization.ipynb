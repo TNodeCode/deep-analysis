{
 "cells": [
  {
   "cell_type": "markdown",
   "id": "4110263a-89ae-4d09-ab52-7c353e6f1f7b",
   "metadata": {},
   "source": [
    "# Feature Factorization"
   ]
  },
  {
   "cell_type": "code",
   "execution_count": null,
   "id": "760c1d77-3c48-482b-9e77-af5830b3f24c",
   "metadata": {},
   "outputs": [],
   "source": [
    "%load_ext autoreload\n",
    "%autoreload 2\n",
    "\n",
    "import glob\n",
    "import torch\n",
    "import numpy as np\n",
    "import matplotlib.pyplot as plt\n",
    "from utils.visualize import visualize_image\n",
    "from utils.image_loader import get_image_from_fs\n",
    "from utils.factorization import compute_dff, scale_explanations"
   ]
  },
  {
   "cell_type": "code",
   "execution_count": null,
   "id": "8c5b2dab-a5a2-45e4-bedd-c5ebfa5085b5",
   "metadata": {},
   "outputs": [],
   "source": [
    "dir_name = \"images/containers\"\n",
    "model_name = \"keypoint_rcnn\"\n",
    "feature_key = \"f4\"\n",
    "image_shape = (3, 1100, 600)"
   ]
  },
  {
   "cell_type": "markdown",
   "id": "91f8783f-e7ca-422a-b625-1b2483e8414a",
   "metadata": {},
   "source": [
    "### Load image features\n",
    "\n",
    "Load the image features from an npz file"
   ]
  },
  {
   "cell_type": "code",
   "execution_count": null,
   "id": "7c8900b6-c594-4c03-ad29-8310af79b504",
   "metadata": {},
   "outputs": [],
   "source": [
    "features = np.load(f\"{dir_name}/{model_name}_{feature_key}.npz\", allow_pickle=True)\n",
    "features = features[\"image_features\"]\n",
    "print(\"Loaded image features\", features.shape)"
   ]
  },
  {
   "cell_type": "markdown",
   "id": "841969aa-1920-4c94-8ea6-19185b385efb",
   "metadata": {},
   "source": [
    "### Compute concepts and explanations\n",
    "\n",
    "Compute concepts and explanations of the image features"
   ]
  },
  {
   "cell_type": "code",
   "execution_count": null,
   "id": "d757a51c-f764-49f7-a55d-25623b992a24",
   "metadata": {},
   "outputs": [],
   "source": [
    "concepts, explanations = compute_dff(features, n_components=3)\n",
    "print(\"Concepts\", concepts.shape, \"Explanations\", explanations.shape)"
   ]
  },
  {
   "cell_type": "markdown",
   "id": "ae3eabf3-f7eb-4b31-97e2-719010b439ca",
   "metadata": {},
   "source": [
    "### Scale explanations\n",
    "\n",
    "Reshape explanations so that it fits the image size"
   ]
  },
  {
   "cell_type": "code",
   "execution_count": null,
   "id": "d601e863-de12-4a80-8f8a-85fa1eee2a63",
   "metadata": {},
   "outputs": [],
   "source": [
    "scaled_explanations = scale_explanations(explanations, width=image_shape[1], height=image_shape[2])"
   ]
  },
  {
   "cell_type": "markdown",
   "id": "7f4c6609-1195-4565-bb91-9ff0ab6ec204",
   "metadata": {},
   "source": [
    "### Visualize Explanations\n",
    "\n",
    "Create visualizations of the explanations"
   ]
  },
  {
   "cell_type": "code",
   "execution_count": null,
   "id": "f583f599-25eb-4889-b4a3-1bc008d8799b",
   "metadata": {},
   "outputs": [],
   "source": [
    "filenames = glob.glob(dir_name + \"/*.jpg\")\n",
    "filenames.extend(glob.glob(dir_name + \"/*.png\"))\n",
    "\n",
    "img, rgb_img_float, input_tensor = get_image_from_fs(\n",
    "    filenames[0],\n",
    "    resize=None,\n",
    ")\n",
    "\n",
    "visualizations = visualize_image(\n",
    "    concepts,\n",
    "    scaled_explanations[0],\n",
    "    None,\n",
    "    rgb_img_float,\n",
    "    image_weight=0.3\n",
    ")"
   ]
  },
  {
   "cell_type": "code",
   "execution_count": null,
   "id": "f980f6bd-852a-48ce-9c82-8ad4fc895272",
   "metadata": {},
   "outputs": [],
   "source": [
    "fig, ax = plt.subplots(1, 1, figsize=(10,12))\n",
    "ax.axis('off')\n",
    "ax.imshow(visualizations)"
   ]
  },
  {
   "cell_type": "code",
   "execution_count": null,
   "id": "fbb65f79-4976-41f7-b601-1fb28cbcebea",
   "metadata": {},
   "outputs": [],
   "source": [
    "fig.savefig('out.png', bbox_inches='tight', pad_inches=0)"
   ]
  },
  {
   "cell_type": "code",
   "execution_count": null,
   "id": "b9761291-b4e6-433c-898d-767355fe517f",
   "metadata": {},
   "outputs": [],
   "source": []
  }
 ],
 "metadata": {
  "kernelspec": {
   "display_name": "Python 3 (ipykernel)",
   "language": "python",
   "name": "python3"
  },
  "language_info": {
   "codemirror_mode": {
    "name": "ipython",
    "version": 3
   },
   "file_extension": ".py",
   "mimetype": "text/x-python",
   "name": "python",
   "nbconvert_exporter": "python",
   "pygments_lexer": "ipython3",
   "version": "3.10.6"
  }
 },
 "nbformat": 4,
 "nbformat_minor": 5
}

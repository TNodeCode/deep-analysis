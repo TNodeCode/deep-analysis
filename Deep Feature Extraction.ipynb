{
 "cells": [
  {
   "cell_type": "markdown",
   "id": "ea8d25c9-02b2-4696-990f-1a90c0c3e5cc",
   "metadata": {},
   "source": [
    "# Deep Feature Extraction\n",
    "\n",
    "This notebook helps to extract features tensors from deep learning models. The extracted features are saved as npz files in the corresponding image directory."
   ]
  },
  {
   "cell_type": "code",
   "execution_count": null,
   "id": "fb4529ab-3f53-47fb-8680-9dccbc317bc2",
   "metadata": {},
   "outputs": [],
   "source": [
    "%load_ext autoreload\n",
    "%autoreload 2\n",
    "\n",
    "import torch\n",
    "import torchvision\n",
    "import numpy as np\n",
    "\n",
    "from utils.image_loader import get_image_from_url, get_image_from_fs, load_image_folder_as_tensor\n",
    "from backbones import DenseNet201, ResNet50, VGG19, ViTB16, UNet, FasterRCNNResnet50V2, FCOS, RetinaNetV2, MaskRCNNV2, KeyPointRCNN"
   ]
  },
  {
   "cell_type": "markdown",
   "id": "5a2dfda0-4404-482a-95e4-eb0fa0319442",
   "metadata": {},
   "source": [
    "### Loading the backbone model\n",
    "\n",
    "Load a backbone, that is able to extract features from a deep learning model."
   ]
  },
  {
   "cell_type": "code",
   "execution_count": null,
   "id": "26cba763-6b54-496d-b6b5-d82f7473cd52",
   "metadata": {},
   "outputs": [],
   "source": [
    "basedir = \"images/containers\"\n",
    "model_path = \"../PyTorchImageClassifier/vgg19.pth\"\n",
    "backbone = MaskRCNNV2(filepath=None)\n",
    "#backbone = UNet(filepath=\"../Pytorch-UNet/checkpoints/model7s.pth\")\n",
    "backbone.name = \"keypoint_rcnn\"\n",
    "backbone.model.eval()\n",
    "feature_key = \"f4\"\n",
    "resize=None#(448,448)\n",
    "\n",
    "print(\"Available features:\", backbone.feature_keys)"
   ]
  },
  {
   "cell_type": "markdown",
   "id": "bbaca6e5-860d-4e80-9469-b056831283cb",
   "metadata": {},
   "source": [
    "### Loading images as tensor\n",
    "\n",
    "This cell will load all images of a given folder as a tensor of shape (batch_size, color_channels, width, height)"
   ]
  },
  {
   "cell_type": "code",
   "execution_count": null,
   "id": "20a17a10-e5a7-408f-a70a-b1320ef2e2b9",
   "metadata": {},
   "outputs": [],
   "source": [
    "input_batch = load_image_folder_as_tensor(basedir, resize=resize)\n",
    "print(\"Loaded images as tensor:\", input_batch.shape)"
   ]
  },
  {
   "cell_type": "markdown",
   "id": "9ae3ea7a-6f66-495e-afe0-c232054ab008",
   "metadata": {},
   "source": [
    "### Generate feature tensor\n",
    "\n",
    "Run the image tensors through the model and extract the feature tensors."
   ]
  },
  {
   "cell_type": "code",
   "execution_count": null,
   "id": "2d1fe807-5531-44d4-a6dc-83b86c661e90",
   "metadata": {},
   "outputs": [],
   "source": [
    "image_features = backbone.get_features(input_batch, feature_key)\n",
    "if (type(image_features) == tuple):\n",
    "    image_features = image_features[0]\n",
    "    image_features = image_features.unsqueeze(1)\n",
    "print(\"Extracted image features:\", image_features.shape)"
   ]
  },
  {
   "cell_type": "markdown",
   "id": "3d1632a9-9ea3-4942-8125-79cd706d3fbe",
   "metadata": {},
   "source": [
    "### Save feature tensors\n",
    "\n",
    "Save the extracted feature tensors as npz file in the corresponding image directory."
   ]
  },
  {
   "cell_type": "code",
   "execution_count": null,
   "id": "959dd00e-0dd9-4d77-ad54-ff844bbe6823",
   "metadata": {},
   "outputs": [],
   "source": [
    "filename = f\"{basedir}/{backbone.name}_{feature_key}.npz\"\n",
    "np.savez_compressed(filename, image_features=image_features)\n",
    "print(\"Feature tensors saved:\", filename)"
   ]
  },
  {
   "cell_type": "code",
   "execution_count": null,
   "id": "98d36af2-db5b-473f-ba87-9d31b0fa5905",
   "metadata": {},
   "outputs": [],
   "source": []
  }
 ],
 "metadata": {
  "kernelspec": {
   "display_name": "Python 3 (ipykernel)",
   "language": "python",
   "name": "python3"
  },
  "language_info": {
   "codemirror_mode": {
    "name": "ipython",
    "version": 3
   },
   "file_extension": ".py",
   "mimetype": "text/x-python",
   "name": "python",
   "nbconvert_exporter": "python",
   "pygments_lexer": "ipython3",
   "version": "3.10.6"
  }
 },
 "nbformat": 4,
 "nbformat_minor": 5
}

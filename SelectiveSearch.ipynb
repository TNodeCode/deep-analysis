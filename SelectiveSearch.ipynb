{
 "cells": [
  {
   "cell_type": "code",
   "execution_count": null,
   "id": "a5ffd218-cd43-4e1b-9050-3891d2ba1633",
   "metadata": {},
   "outputs": [],
   "source": [
    "import cv2\n",
    "import selectivesearch\n",
    "import numpy as np\n",
    "import random\n",
    "import matplotlib.pyplot as plt"
   ]
  },
  {
   "cell_type": "code",
   "execution_count": null,
   "id": "fbf2ce08-a9d8-4a4b-96e7-ab2ccc83bdb2",
   "metadata": {},
   "outputs": [],
   "source": [
    "image_path = 'images/plane6.jpg'  # Replace with the actual path to your image\n",
    "image = cv2.imread(image_path)\n",
    "plt.imshow(cv2.cvtColor(image, cv2.COLOR_BGR2RGB))\n",
    "plt.axis('off')\n",
    "plt.show()"
   ]
  },
  {
   "cell_type": "markdown",
   "id": "4daac377-4fbf-41ee-a9cb-20a11f48d2fc",
   "metadata": {},
   "source": [
    "Perform Selective Search on the image"
   ]
  },
  {
   "cell_type": "code",
   "execution_count": null,
   "id": "d4ceca4f-0f24-4243-8f3f-9b23c55dbb0a",
   "metadata": {},
   "outputs": [],
   "source": [
    "# Convert the image to RGB format\n",
    "image_rgb = cv2.cvtColor(image, cv2.COLOR_BGR2RGB)\n",
    "\n",
    "# Run selective search on the image\n",
    "regions = selectivesearch.selective_search(image_rgb, scale=500, sigma=0.9, min_size=10)"
   ]
  },
  {
   "cell_type": "markdown",
   "id": "7541636f-ae4e-4303-9e12-238a1c475dcd",
   "metadata": {},
   "source": [
    "Extract the bounding boxes and masks for the regions:"
   ]
  },
  {
   "cell_type": "code",
   "execution_count": null,
   "id": "31fb2f62-e52b-4114-bbe7-18a8e8b589c7",
   "metadata": {},
   "outputs": [],
   "source": [
    "masks = []\n",
    "bboxes = []\n",
    "#print(\"REGS\", regions)\n",
    "\n",
    "for region in regions[1]:\n",
    "    if region[\"size\"] < 10000:\n",
    "        continue\n",
    "    # Extract the bounding box coordinates\n",
    "    x, y, w, h = region['rect']\n",
    "    bbox = (x, y, x + w, y + h)\n",
    "    bboxes.append(bbox)\n",
    "\n",
    "    # Extract the mask for the region\n",
    "    mask = np.zeros(image_rgb.shape[:2], dtype=np.uint8)\n",
    "    mask[y:y+h, x:x+w] = 255\n",
    "    masks.append(mask)"
   ]
  },
  {
   "cell_type": "markdown",
   "id": "f85d9852-ecc2-4e65-bdf0-7973300261ec",
   "metadata": {},
   "source": [
    "Visualize the segmented regions using masks:"
   ]
  },
  {
   "cell_type": "code",
   "execution_count": null,
   "id": "eb9308fa-efa3-479d-8f5f-f3792808ec0d",
   "metadata": {},
   "outputs": [],
   "source": [
    "r = lambda: random.randint(0,255)\n",
    "rand_color = lambda: '#%02X%02X%02X' % (r(),r(),r())\n",
    "\n",
    "# Display the original image with bounding boxes\n",
    "fig, ax = plt.subplots()\n",
    "ax.imshow(cv2.cvtColor(image, cv2.COLOR_BGR2RGB))\n",
    "for bbox in bboxes:\n",
    "    rect = plt.Rectangle((bbox[0], bbox[1]), bbox[2] - bbox[0], bbox[3] - bbox[1], fill=False, edgecolor=rand_color(), linewidth=1)\n",
    "    ax.add_patch(rect)\n",
    "plt.axis('off')\n",
    "plt.show()\n",
    "\n",
    "# Display the masks for the segmented regions\n",
    "fig, ax = plt.subplots(ncols=len(masks))\n",
    "for i, mask in enumerate(masks):\n",
    "    ax[i].imshow(mask, cmap='gray')\n",
    "    ax[i].axis('off')\n",
    "plt.show()"
   ]
  },
  {
   "cell_type": "code",
   "execution_count": null,
   "id": "a059e774-71d4-4abd-b075-78f533a11e8e",
   "metadata": {},
   "outputs": [],
   "source": []
  }
 ],
 "metadata": {
  "kernelspec": {
   "display_name": "Python 3 (ipykernel)",
   "language": "python",
   "name": "python3"
  },
  "language_info": {
   "codemirror_mode": {
    "name": "ipython",
    "version": 3
   },
   "file_extension": ".py",
   "mimetype": "text/x-python",
   "name": "python",
   "nbconvert_exporter": "python",
   "pygments_lexer": "ipython3",
   "version": "3.10.6"
  }
 },
 "nbformat": 4,
 "nbformat_minor": 5
}
